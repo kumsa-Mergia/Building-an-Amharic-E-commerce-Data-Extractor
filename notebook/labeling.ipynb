{
 "cells": [
  {
   "cell_type": "markdown",
   "id": "83c5d41a",
   "metadata": {},
   "source": [
    "# import"
   ]
  },
  {
   "cell_type": "code",
   "execution_count": 1,
   "id": "9c5dd404",
   "metadata": {},
   "outputs": [],
   "source": [
    "import sys\n",
    "import os\n",
    "sys.path.append(os.path.abspath('../src'))\n",
    "\n",
    "import pandas as pd\n",
    "from tokenizer import AmharicTokenizer\n",
    "from rule_labeler import RuleBasedNER\n",
    "from labeler import CoNLLLabeler"
   ]
  },
  {
   "cell_type": "markdown",
   "id": "0e12a5e1",
   "metadata": {},
   "source": [
    "# Load cleaned messages"
   ]
  },
  {
   "cell_type": "code",
   "execution_count": 2,
   "id": "8145e645",
   "metadata": {},
   "outputs": [],
   "source": [
    "df = pd.read_csv('../Data/processed/clean_scraped.csv')"
   ]
  },
  {
   "cell_type": "markdown",
   "id": "e147cd92",
   "metadata": {},
   "source": [
    "# Sample 50 unique messages"
   ]
  },
  {
   "cell_type": "code",
   "execution_count": 3,
   "id": "1f88969d",
   "metadata": {},
   "outputs": [],
   "source": [
    "sample_texts = df['text'].drop_duplicates().sample(50, random_state=42).tolist()"
   ]
  },
  {
   "cell_type": "markdown",
   "id": "2a6bdf59",
   "metadata": {},
   "source": [
    "# Initialize components"
   ]
  },
  {
   "cell_type": "code",
   "execution_count": 4,
   "id": "7fcc5847",
   "metadata": {},
   "outputs": [],
   "source": [
    "tokenizer = AmharicTokenizer()"
   ]
  },
  {
   "cell_type": "code",
   "execution_count": 5,
   "id": "ee0b53a2",
   "metadata": {},
   "outputs": [],
   "source": [
    "ner = RuleBasedNER()"
   ]
  },
  {
   "cell_type": "code",
   "execution_count": 6,
   "id": "c49b4f82",
   "metadata": {},
   "outputs": [],
   "source": [
    "labeler = CoNLLLabeler()"
   ]
  },
  {
   "cell_type": "markdown",
   "id": "b813f1d7",
   "metadata": {},
   "source": [
    "# Loop through each message, tokenize and label"
   ]
  },
  {
   "cell_type": "code",
   "execution_count": 7,
   "id": "6eab2224",
   "metadata": {},
   "outputs": [],
   "source": [
    "for text in sample_texts:\n",
    "    tokens = tokenizer.tokenize(text)\n",
    "    labels = ner.label_tokens(tokens)\n",
    "    labeler.add_labeled_message(tokens, labels)"
   ]
  },
  {
   "cell_type": "markdown",
   "id": "7625400a",
   "metadata": {},
   "source": [
    "# Save all labeled messages to CoNLL format"
   ]
  },
  {
   "cell_type": "code",
   "execution_count": 8,
   "id": "0882586b",
   "metadata": {},
   "outputs": [
    {
     "name": "stdout",
     "output_type": "stream",
     "text": [
      " => 50 messages labeled and saved to ../Data/processed/ner_dataset.conll \n"
     ]
    }
   ],
   "source": [
    "output_path = '../Data/processed/ner_dataset.conll'\n",
    "labeler.save_to_file(output_path)\n",
    "print(f\" => 50 messages labeled and saved to {output_path} \")"
   ]
  },
  {
   "cell_type": "markdown",
   "id": "9183cc5e",
   "metadata": {},
   "source": [
    "# *******  Verify the Output   *******"
   ]
  },
  {
   "cell_type": "code",
   "execution_count": 9,
   "id": "f192b86e",
   "metadata": {},
   "outputs": [
    {
     "data": {
      "text/plain": [
       "Counter({'O': 1280,\n",
       "         'B-LOC': 211,\n",
       "         'I-LOC': 132,\n",
       "         'B-Product': 80,\n",
       "         'I-Product': 15})"
      ]
     },
     "execution_count": 9,
     "metadata": {},
     "output_type": "execute_result"
    }
   ],
   "source": [
    "# Check labeled entity counts\n",
    "from collections import Counter\n",
    "\n",
    "all_labels = []\n",
    "for text in sample_texts:\n",
    "    tokens = tokenizer.tokenize(text)\n",
    "    labels = ner.label_tokens(tokens)\n",
    "    all_labels.extend(labels)\n",
    "\n",
    "Counter(all_labels)"
   ]
  }
 ],
 "metadata": {
  "kernelspec": {
   "display_name": "venv",
   "language": "python",
   "name": "python3"
  },
  "language_info": {
   "codemirror_mode": {
    "name": "ipython",
    "version": 3
   },
   "file_extension": ".py",
   "mimetype": "text/x-python",
   "name": "python",
   "nbconvert_exporter": "python",
   "pygments_lexer": "ipython3",
   "version": "3.12.3"
  }
 },
 "nbformat": 4,
 "nbformat_minor": 5
}
