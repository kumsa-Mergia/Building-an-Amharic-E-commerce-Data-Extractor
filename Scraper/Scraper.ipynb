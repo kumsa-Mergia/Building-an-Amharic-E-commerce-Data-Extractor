{
 "cells": [
  {
   "cell_type": "markdown",
   "id": "5c2de820",
   "metadata": {},
   "source": [
    "## Environment Setup (.env loading)"
   ]
  },
  {
   "cell_type": "code",
   "execution_count": 1,
   "id": "f16c9db7",
   "metadata": {},
   "outputs": [],
   "source": [
    "import os\n",
    "from pathlib import Path\n",
    "from dotenv import load_dotenv\n",
    "\n",
    "# Load environment variables\n",
    "env_path = Path().resolve().parents[1] / '.env'\n",
    "load_dotenv(dotenv_path=env_path)\n",
    "\n",
    "def get_env(name, required=True):\n",
    "    value = os.getenv(name)\n",
    "    if required and not value:\n",
    "        raise ValueError(f\"Missing required env var: {name}\")\n",
    "    return value\n",
    "\n",
    "API_ID = int(get_env(\"API_ID\"))\n",
    "API_HASH = get_env(\"API_HASH\")\n",
    "PHONE = get_env(\"PHONE\", required=False)"
   ]
  },
  {
   "cell_type": "markdown",
   "id": "25b0d722",
   "metadata": {},
   "source": [
    "##  Import Dependencies"
   ]
  },
  {
   "cell_type": "code",
   "execution_count": 2,
   "id": "b262d18c",
   "metadata": {},
   "outputs": [],
   "source": [
    "import re\n",
    "import os\n",
    "import pandas as pd\n",
    "from typing import List, Optional\n",
    "from telethon import TelegramClient\n",
    "from telethon.tl.types import MessageMediaPhoto, MessageMediaDocument"
   ]
  },
  {
   "cell_type": "markdown",
   "id": "ae68b411",
   "metadata": {},
   "source": [
    "## Define Helper Classes"
   ]
  },
  {
   "cell_type": "code",
   "execution_count": 3,
   "id": "ec0b0a85",
   "metadata": {},
   "outputs": [],
   "source": [
    "class AmharicTextProcessor:\n",
    "    @staticmethod\n",
    "    def preprocess(text: str) -> str:\n",
    "        if not text:\n",
    "            return \"\"\n",
    "        text = re.sub(r'[^\\u1200-\\u137F\\s]', '', text)  # Keep Amharic chars\n",
    "        text = re.sub(r'\\s+', ' ', text).strip()\n",
    "        return text\n"
   ]
  },
  {
   "cell_type": "markdown",
   "id": "d4347e6a",
   "metadata": {},
   "source": [
    "## Telegram Scraper Class"
   ]
  },
  {
   "cell_type": "code",
   "execution_count": 4,
   "id": "489ee7fd",
   "metadata": {},
   "outputs": [],
   "source": [
    "import os\n",
    "import pandas as pd\n",
    "from typing import List, Optional\n",
    "from telethon import TelegramClient\n",
    "from telethon.tl.types import MessageMediaPhoto\n",
    "\n",
    "\n",
    "class TelegramNotebookScraper:\n",
    "    def __init__(self, api_id: int, api_hash: str, phone: Optional[str] = None, media_dir: str = 'media'):\n",
    "        self.api_id = api_id\n",
    "        self.api_hash = api_hash\n",
    "        self.phone = phone\n",
    "        self.media_dir = media_dir\n",
    "        os.makedirs(media_dir, exist_ok=True)\n",
    "        self.client = TelegramClient('notebook_session', self.api_id, self.api_hash)\n",
    "\n",
    "    async def start(self):\n",
    "        await self.client.start(phone=self.phone)\n",
    "\n",
    "    async def download_media(self, message, channel_username: str) -> Optional[str]:\n",
    "        if isinstance(message.media, MessageMediaPhoto):\n",
    "            ext = 'jpg'\n",
    "            filename = f\"{channel_username}_{message.id}.{ext}\"\n",
    "            path = os.path.join(self.media_dir, filename)\n",
    "            await self.client.download_media(message.media, path)\n",
    "            return path\n",
    "        return None\n",
    "\n",
    "    async def fetch_channel_data(self, channel_username: str, limit=500) -> pd.DataFrame:\n",
    "        data = []\n",
    "        try:\n",
    "            entity = await self.client.get_entity(channel_username)\n",
    "            async for message in self.client.iter_messages(entity, limit=limit):\n",
    "                text = AmharicTextProcessor.preprocess(message.message or '')\n",
    "                media_path = await self.download_media(message, channel_username)\n",
    "\n",
    "                sender = None\n",
    "                if message.sender:\n",
    "                    sender = getattr(message.sender, 'username', None) or getattr(message.sender, 'id', None)\n",
    "\n",
    "                data.append({\n",
    "                    \"channel_title\": getattr(entity, 'title', channel_username),\n",
    "                    \"channel_username\": channel_username,\n",
    "                    \"message_id\": message.id,\n",
    "                    \"text\": text,\n",
    "                    \"timestamp\": message.date,\n",
    "                    \"views\": message.views,\n",
    "                    \"sender\": sender,\n",
    "                    \"media_path\": media_path\n",
    "                })\n",
    "        except Exception as e:\n",
    "            print(f\"Error fetching from {channel_username}: {e}\")\n",
    "        return pd.DataFrame(data)\n",
    "\n",
    "    async def fetch_multiple_channels(self, channels: List[str], limit=500) -> pd.DataFrame:\n",
    "        all_data = []\n",
    "        for channel in channels:\n",
    "            print(f\"Fetching from: {channel}\")\n",
    "            df = await self.fetch_channel_data(channel, limit)\n",
    "            all_data.append(df)\n",
    "            print(f\"Finished: {channel} — {len(df)} messages\")\n",
    "        return pd.concat(all_data, ignore_index=True)\n",
    "\n",
    "    async def stop(self):\n",
    "        await self.client.disconnect()\n"
   ]
  },
  {
   "cell_type": "markdown",
   "id": "10da2364",
   "metadata": {},
   "source": [
    "# Run"
   ]
  },
  {
   "cell_type": "code",
   "execution_count": 5,
   "id": "af4fdda3",
   "metadata": {},
   "outputs": [],
   "source": [
    "import nest_asyncio\n",
    "nest_asyncio.apply()"
   ]
  },
  {
   "cell_type": "markdown",
   "id": "1089373e",
   "metadata": {},
   "source": [
    "## Ingest Messages"
   ]
  },
  {
   "cell_type": "code",
   "execution_count": 6,
   "id": "0e081296",
   "metadata": {},
   "outputs": [
    {
     "name": "stdout",
     "output_type": "stream",
     "text": [
      "Signed in successfully as Kumsa Mergia; remember to not break the ToS or you will risk an account ban!\n",
      "Fetching from: @Fashiontera\n",
      "Finished: @Fashiontera — 500 messages\n",
      "Fetching from: @AwasMart\n",
      "Finished: @AwasMart — 500 messages\n",
      "Fetching from: @ethio_brand_collection\n",
      "Finished: @ethio_brand_collection — 500 messages\n",
      "Fetching from: @Leyueqa\n",
      "Finished: @Leyueqa — 500 messages\n",
      "Fetching from: @helloomarketethiopia\n",
      "Finished: @helloomarketethiopia — 500 messages\n",
      "Fetching from: @qnashcom\n",
      "Finished: @qnashcom — 500 messages\n"
     ]
    }
   ],
   "source": [
    "scraper = TelegramNotebookScraper(\n",
    "    API_ID,\n",
    "    API_HASH,\n",
    "    PHONE,\n",
    "    media_dir='../Data/processed/photo'\n",
    ")\n",
    "\n",
    "await scraper.start()\n",
    "\n",
    "channels = [\n",
    "    '@Fashiontera','@AwasMart','@ethio_brand_collection','@Leyueqa','@helloomarketethiopia','@qnashcom'\n",
    "]\n",
    "\n",
    "df = await scraper.fetch_multiple_channels(channels)\n",
    "\n",
    "await scraper.stop()\n"
   ]
  },
  {
   "cell_type": "markdown",
   "id": "1add5126",
   "metadata": {},
   "source": [
    "# Save the Data"
   ]
  },
  {
   "cell_type": "code",
   "execution_count": null,
   "id": "e17c0fad",
   "metadata": {},
   "outputs": [],
   "source": [
    "df.to_csv('../Data/processed/telegram_messages_data.csv', index=False)"
   ]
  },
  {
   "cell_type": "markdown",
   "id": "493ea231",
   "metadata": {},
   "source": [
    "# View  the Data"
   ]
  },
  {
   "cell_type": "code",
   "execution_count": 8,
   "id": "4f137171",
   "metadata": {},
   "outputs": [
    {
     "data": {
      "text/html": [
       "<div>\n",
       "<style scoped>\n",
       "    .dataframe tbody tr th:only-of-type {\n",
       "        vertical-align: middle;\n",
       "    }\n",
       "\n",
       "    .dataframe tbody tr th {\n",
       "        vertical-align: top;\n",
       "    }\n",
       "\n",
       "    .dataframe thead th {\n",
       "        text-align: right;\n",
       "    }\n",
       "</style>\n",
       "<table border=\"1\" class=\"dataframe\">\n",
       "  <thead>\n",
       "    <tr style=\"text-align: right;\">\n",
       "      <th></th>\n",
       "      <th>channel_title</th>\n",
       "      <th>channel_username</th>\n",
       "      <th>message_id</th>\n",
       "      <th>text</th>\n",
       "      <th>timestamp</th>\n",
       "      <th>views</th>\n",
       "      <th>sender</th>\n",
       "      <th>media_path</th>\n",
       "    </tr>\n",
       "  </thead>\n",
       "  <tbody>\n",
       "    <tr>\n",
       "      <th>0</th>\n",
       "      <td>Fashion tera</td>\n",
       "      <td>@Fashiontera</td>\n",
       "      <td>4152</td>\n",
       "      <td></td>\n",
       "      <td>2025-06-18 18:37:32+00:00</td>\n",
       "      <td>632.0</td>\n",
       "      <td>Fashiontera</td>\n",
       "      <td>../Data/processed/photo\\@Fashiontera_4152.jpg</td>\n",
       "    </tr>\n",
       "    <tr>\n",
       "      <th>1</th>\n",
       "      <td>Fashion tera</td>\n",
       "      <td>@Fashiontera</td>\n",
       "      <td>4151</td>\n",
       "      <td>ስልክ ፋሽን ተራ አድራሻ አዲስ አበባ ጦር ሀይሎች ድሪም ታወር ተኛ ፎቅ</td>\n",
       "      <td>2025-06-14 13:32:36+00:00</td>\n",
       "      <td>1181.0</td>\n",
       "      <td>Fashiontera</td>\n",
       "      <td>../Data/processed/photo\\@Fashiontera_4151.jpg</td>\n",
       "    </tr>\n",
       "    <tr>\n",
       "      <th>2</th>\n",
       "      <td>Fashion tera</td>\n",
       "      <td>@Fashiontera</td>\n",
       "      <td>4150</td>\n",
       "      <td></td>\n",
       "      <td>2025-06-14 13:32:36+00:00</td>\n",
       "      <td>976.0</td>\n",
       "      <td>Fashiontera</td>\n",
       "      <td>../Data/processed/photo\\@Fashiontera_4150.jpg</td>\n",
       "    </tr>\n",
       "    <tr>\n",
       "      <th>3</th>\n",
       "      <td>Fashion tera</td>\n",
       "      <td>@Fashiontera</td>\n",
       "      <td>4149</td>\n",
       "      <td>ስልክ ፋሽን ተራ አድራሻ አዲስ አበባ ጦር ሀይሎች ድሪም ታወር ተኛ ፎቅ</td>\n",
       "      <td>2025-06-13 19:55:32+00:00</td>\n",
       "      <td>1092.0</td>\n",
       "      <td>Fashiontera</td>\n",
       "      <td>../Data/processed/photo\\@Fashiontera_4149.jpg</td>\n",
       "    </tr>\n",
       "    <tr>\n",
       "      <th>4</th>\n",
       "      <td>Fashion tera</td>\n",
       "      <td>@Fashiontera</td>\n",
       "      <td>4148</td>\n",
       "      <td>ስልክ ፋሽን ተራ አድራሻ አዲስ አበባ ጦር ሀይሎች ድሪም ታወር ተኛ ፎቅ</td>\n",
       "      <td>2025-06-11 20:11:16+00:00</td>\n",
       "      <td>1113.0</td>\n",
       "      <td>Fashiontera</td>\n",
       "      <td>../Data/processed/photo\\@Fashiontera_4148.jpg</td>\n",
       "    </tr>\n",
       "  </tbody>\n",
       "</table>\n",
       "</div>"
      ],
      "text/plain": [
       "  channel_title channel_username  message_id  \\\n",
       "0  Fashion tera     @Fashiontera        4152   \n",
       "1  Fashion tera     @Fashiontera        4151   \n",
       "2  Fashion tera     @Fashiontera        4150   \n",
       "3  Fashion tera     @Fashiontera        4149   \n",
       "4  Fashion tera     @Fashiontera        4148   \n",
       "\n",
       "                                            text                 timestamp  \\\n",
       "0                                                2025-06-18 18:37:32+00:00   \n",
       "1  ስልክ ፋሽን ተራ አድራሻ አዲስ አበባ ጦር ሀይሎች ድሪም ታወር ተኛ ፎቅ 2025-06-14 13:32:36+00:00   \n",
       "2                                                2025-06-14 13:32:36+00:00   \n",
       "3  ስልክ ፋሽን ተራ አድራሻ አዲስ አበባ ጦር ሀይሎች ድሪም ታወር ተኛ ፎቅ 2025-06-13 19:55:32+00:00   \n",
       "4  ስልክ ፋሽን ተራ አድራሻ አዲስ አበባ ጦር ሀይሎች ድሪም ታወር ተኛ ፎቅ 2025-06-11 20:11:16+00:00   \n",
       "\n",
       "    views       sender                                     media_path  \n",
       "0   632.0  Fashiontera  ../Data/processed/photo\\@Fashiontera_4152.jpg  \n",
       "1  1181.0  Fashiontera  ../Data/processed/photo\\@Fashiontera_4151.jpg  \n",
       "2   976.0  Fashiontera  ../Data/processed/photo\\@Fashiontera_4150.jpg  \n",
       "3  1092.0  Fashiontera  ../Data/processed/photo\\@Fashiontera_4149.jpg  \n",
       "4  1113.0  Fashiontera  ../Data/processed/photo\\@Fashiontera_4148.jpg  "
      ]
     },
     "execution_count": 8,
     "metadata": {},
     "output_type": "execute_result"
    }
   ],
   "source": [
    "df.head()"
   ]
  }
 ],
 "metadata": {
  "kernelspec": {
   "display_name": "venv",
   "language": "python",
   "name": "python3"
  },
  "language_info": {
   "codemirror_mode": {
    "name": "ipython",
    "version": 3
   },
   "file_extension": ".py",
   "mimetype": "text/x-python",
   "name": "python",
   "nbconvert_exporter": "python",
   "pygments_lexer": "ipython3",
   "version": "3.12.3"
  }
 },
 "nbformat": 4,
 "nbformat_minor": 5
}
